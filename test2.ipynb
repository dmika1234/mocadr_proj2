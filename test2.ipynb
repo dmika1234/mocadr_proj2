{
 "cells": [
  {
   "cell_type": "code",
   "execution_count": 1,
   "metadata": {
    "collapsed": true,
    "pycharm": {
     "name": "#%%\n"
    }
   },
   "outputs": [],
   "source": [
    "import numpy as np\n",
    "import random as rng\n",
    "from functools import partial\n",
    "from time import time\n",
    "import copy\n",
    "from funs import *"
   ]
  },
  {
   "cell_type": "code",
   "execution_count": 3,
   "outputs": [],
   "source": [
    "w = 3\n",
    "k = 10\n",
    "alfa = 0.5\n",
    "Theta = np.array([[0.375, 0.1, 0.14285714285714285],\n",
    "                  [0.125, 0.2, 0.2857142857142857],\n",
    "                  [0.25, 0.3, 0.14285714285714285],\n",
    "                  [0.25, 0.4, 0.42857142857142855]], )\n",
    "ThetaB = np.array([0.25, 0.25, 0.25, 0.25])"
   ],
   "metadata": {
    "collapsed": false,
    "pycharm": {
     "name": "#%%\n"
    }
   }
  },
  {
   "cell_type": "code",
   "execution_count": 4,
   "outputs": [],
   "source": [
    "X = generate_data(Theta, ThetaB, alfa, k)"
   ],
   "metadata": {
    "collapsed": false,
    "pycharm": {
     "name": "#%%\n"
    }
   }
  },
  {
   "cell_type": "code",
   "execution_count": 17,
   "outputs": [],
   "source": [
    "def run_em(data, alpha: int = None, max_iter: int = 500, min_diff: float = 1e-32) -> dict:\n",
    "    tic = time()\n",
    "    data = np.array(data, dtype='int32')\n",
    "    w = data.shape[1]\n",
    "    thetaB = np.full((4,), 1 / 4)\n",
    "    theta = np.full((4, w), 1) / 4\n",
    "    rep = 0\n",
    "    theta_next = copy.deepcopy(theta)\n",
    "    thetaB_next = copy.deepcopy(thetaB)\n",
    "    norm = min_diff + 1\n",
    "    normB = min_diff + 1\n",
    "\n",
    "    results = dict({\"data\": data, \"max_iter\": max_iter, \"min_diff\": min_diff,\n",
    "                    \"alpha\": alpha, \"Theta\": theta, \"ThetaB\": thetaB,\n",
    "                    \"last_diff\": None, \"last_diffB\": None, \"iterations\": 0, \"time_spent\": None})\n",
    "\n",
    "    while (rep < max_iter) & ((min_diff < norm) | (min_diff < normB)):\n",
    "        # Calculating pi\n",
    "        calc_pi_mapfunc = partial(calc_pii, theta=theta, thetaB=thetaB, alpha=alpha)\n",
    "        pi = np.array(list(map(calc_pi_mapfunc, data)))\n",
    "        for m in np.arange(4):\n",
    "            # Derivative for Theta\n",
    "            numerator = (np.array((data == m + 1), dtype='float32').T * pi).T\n",
    "            theta_next[m, :] = np.apply_along_axis(np.sum, axis=0, arr=numerator) / np.sum(pi)\n",
    "            # Derivative for ThetaB\n",
    "            Al = np.apply_along_axis(np.sum, axis=1, arr=(data == m + 1))\n",
    "            thetaB_next[m] = (np.sum((1 - pi) * Al)) / (w * np.sum(1 - pi))\n",
    "        diff = theta_next - theta\n",
    "        norm = ((diff ** 2).sum()) / 4 * w\n",
    "        diffB = thetaB_next - thetaB\n",
    "        normB = ((diffB ** 2).sum()) / 4\n",
    "        theta = copy.deepcopy(theta_next)\n",
    "        thetaB = copy.deepcopy(thetaB_next)\n",
    "        rep += 1\n",
    "    toc = time()\n",
    "\n",
    "    results['Theta'] = theta\n",
    "    results['ThetaB'] = thetaB\n",
    "    results['alpha'] = alpha\n",
    "    results['last_diff'] = norm\n",
    "    results['last_diffB'] = normB\n",
    "    results['iterations'] = rep\n",
    "    results['time_spent'] = toc - tic\n",
    "\n",
    "    return results"
   ],
   "metadata": {
    "collapsed": false,
    "pycharm": {
     "name": "#%%\n"
    }
   }
  },
  {
   "cell_type": "code",
   "execution_count": 18,
   "outputs": [],
   "source": [
    "res = run_em(X, alpha=0.5)"
   ],
   "metadata": {
    "collapsed": false,
    "pycharm": {
     "name": "#%%\n"
    }
   }
  },
  {
   "cell_type": "code",
   "execution_count": 20,
   "outputs": [
    {
     "data": {
      "text/plain": "30"
     },
     "execution_count": 20,
     "metadata": {},
     "output_type": "execute_result"
    }
   ],
   "source": [
    "res['iterations']"
   ],
   "metadata": {
    "collapsed": false,
    "pycharm": {
     "name": "#%%\n"
    }
   }
  },
  {
   "cell_type": "code",
   "execution_count": 6,
   "outputs": [
    {
     "data": {
      "text/plain": "1.5016002067701886"
     },
     "execution_count": 6,
     "metadata": {},
     "output_type": "execute_result"
    }
   ],
   "source": [
    "calc_dtv(res['Theta'], Theta)"
   ],
   "metadata": {
    "collapsed": false,
    "pycharm": {
     "name": "#%%\n"
    }
   }
  }
 ],
 "metadata": {
  "kernelspec": {
   "display_name": "Python 3",
   "language": "python",
   "name": "python3"
  },
  "language_info": {
   "codemirror_mode": {
    "name": "ipython",
    "version": 2
   },
   "file_extension": ".py",
   "mimetype": "text/x-python",
   "name": "python",
   "nbconvert_exporter": "python",
   "pygments_lexer": "ipython2",
   "version": "2.7.6"
  }
 },
 "nbformat": 4,
 "nbformat_minor": 0
}