{
 "cells": [
  {
   "cell_type": "code",
   "execution_count": 1,
   "metadata": {
    "collapsed": true,
    "pycharm": {
     "name": "#%%\n"
    }
   },
   "outputs": [],
   "source": [
    "import numpy as np\n",
    "import random as rng\n",
    "from functools import partial\n",
    "from time import time\n",
    "import copy\n",
    "from funs import *"
   ]
  },
  {
   "cell_type": "code",
   "execution_count": 2,
   "outputs": [],
   "source": [
    "w = 3\n",
    "k = 10\n",
    "alfa = 0.5"
   ],
   "metadata": {
    "collapsed": false,
    "pycharm": {
     "name": "#%%\n"
    }
   }
  },
  {
   "cell_type": "code",
   "execution_count": 3,
   "outputs": [],
   "source": [
    "Theta = np.array([[0.375, 0.1, 0.14285714285714285],\n",
    "                  [0.125, 0.2, 0.2857142857142857],\n",
    "                  [0.25, 0.3, 0.14285714285714285],\n",
    "                  [0.25, 0.4, 0.42857142857142855]],)\n",
    "ThetaB = np.array([0.25, 0.25, 0.25, 0.25])"
   ],
   "metadata": {
    "collapsed": false,
    "pycharm": {
     "name": "#%%\n"
    }
   }
  },
  {
   "cell_type": "code",
   "execution_count": 4,
   "outputs": [],
   "source": [
    "rng.seed(1)\n",
    "Theta = np.zeros((4,w))\n",
    "Theta[:3, :] = np.random.random((3,w)) / w\n",
    "Theta[3, :] = 1 - np.sum(Theta, axis=0)\n",
    "ThetaB = np.zeros(4)\n",
    "ThetaB[:3] = np.random.random(3) / w\n",
    "ThetaB[3] = 1 - np.sum(ThetaB, axis=0)"
   ],
   "metadata": {
    "collapsed": false,
    "pycharm": {
     "name": "#%%\n"
    }
   }
  },
  {
   "cell_type": "code",
   "execution_count": 5,
   "outputs": [],
   "source": [
    "rng.seed(1)\n",
    "res = np.zeros((k, w))\n",
    "for i in np.arange(0, k):\n",
    "    z = np.random.choice(np.arange(0, 2), p=[1 - alfa, alfa])\n",
    "    if z == 0:\n",
    "        res[i, :] = np.random.choice(np.arange(1, 5), p=ThetaB, size=w)\n",
    "    if z == 1:\n",
    "        for j in np.arange(0, w):\n",
    "            res[i, j] = np.random.choice(np.arange(1, 5), p=Theta[:, j])"
   ],
   "metadata": {
    "collapsed": false,
    "pycharm": {
     "name": "#%%\n"
    }
   }
  },
  {
   "cell_type": "code",
   "execution_count": 152,
   "outputs": [],
   "source": [
    "w = 3\n",
    "k = 1000\n",
    "alfa = 0.5\n",
    "Theta = np.array([[0.375, 0.1, 0.14285714285714285],\n",
    "                  [0.125, 0.2, 0.2857142857142857],\n",
    "                  [0.25, 0.3, 0.14285714285714285],\n",
    "                  [0.25, 0.4, 0.42857142857142855]], )\n",
    "ThetaB = np.array([0.25, 0.25, 0.25, 0.25])\n"
   ],
   "metadata": {
    "collapsed": false,
    "pycharm": {
     "name": "#%%\n"
    }
   }
  },
  {
   "cell_type": "code",
   "execution_count": 97,
   "outputs": [],
   "source": [
    "def generate_data(Theta, ThetaB, alfa, k, seed: int = 1):\n",
    "    w = Theta.shape[1]\n",
    "    rng.seed(seed)\n",
    "    res = np.zeros((k, w))\n",
    "    for i in np.arange(0, k):\n",
    "        z = np.random.choice(np.arange(0, 2), p=[1 - alfa, alfa])\n",
    "        if z == 0:\n",
    "            res[i, :] = np.random.choice(np.arange(1, 5), p=ThetaB, size=w)\n",
    "        if z == 1:\n",
    "            for j in np.arange(0, w):\n",
    "                res[i, j] = np.random.choice(np.arange(1, 5), p=Theta[:, j])\n",
    "\n",
    "    return np.array(res, dtype='int32')"
   ],
   "metadata": {
    "collapsed": false,
    "pycharm": {
     "name": "#%%\n"
    }
   }
  },
  {
   "cell_type": "code",
   "execution_count": 154,
   "outputs": [],
   "source": [
    "X = generate_data(Theta, ThetaB, alfa, k, seed=2022)"
   ],
   "metadata": {
    "collapsed": false,
    "pycharm": {
     "name": "#%%\n"
    }
   }
  },
  {
   "cell_type": "code",
   "execution_count": 30,
   "outputs": [],
   "source": [
    "thetaB = np.full((4, ), 1 / 4)\n",
    "theta = np.full((4, w), 1) / 4"
   ],
   "metadata": {
    "collapsed": false,
    "pycharm": {
     "name": "#%%\n"
    }
   }
  },
  {
   "cell_type": "code",
   "execution_count": 35,
   "outputs": [],
   "source": [
    "pi = np.full((k, ), 1, dtype='float32')\n",
    "for i in np.arange(k):\n",
    "    ix = X[i,:] - 1\n",
    "    mask = (ix[:, None] == np.arange(theta.shape[0])).T\n",
    "    prod_theta = np.prod(theta[mask])\n",
    "    prod_thetaB = np.prod(np.take(thetaB, ix))\n",
    "    pi[i] = (alfa * prod_theta) / (alfa * prod_theta + (1 - alfa) * prod_thetaB)"
   ],
   "metadata": {
    "collapsed": false,
    "pycharm": {
     "name": "#%%\n"
    }
   }
  },
  {
   "cell_type": "code",
   "execution_count": 98,
   "outputs": [],
   "source": [
    "for m in np.arange(4):\n",
    "    for l in np.arange(w):\n",
    "        theta[m, l] = np.sum(np.array((X[:, l] == m + 1), dtype='float32') * pi) / np.sum(pi)"
   ],
   "metadata": {
    "collapsed": false,
    "pycharm": {
     "name": "#%%\n"
    }
   }
  },
  {
   "cell_type": "code",
   "execution_count": 107,
   "outputs": [],
   "source": [
    "for m in np.arange(4):\n",
    "    sum_theta = 0\n",
    "    sum_pi = w * np.sum(1 - pi)\n",
    "    for j in np.arange(k):\n",
    "        sum_theta = sum_theta + (1 - pi[j]) * np.sum(X[j,:] == m + 1)\n",
    "    thetaB[m] = sum_theta / sum_pi"
   ],
   "metadata": {
    "collapsed": false,
    "pycharm": {
     "name": "#%%\n"
    }
   }
  },
  {
   "cell_type": "code",
   "execution_count": 186,
   "outputs": [],
   "source": [
    "thetaB = np.random.random(4) / 4\n",
    "thetaB[0] = 1 - np.sum(thetaB[1:])\n",
    "theta = np.random.random(4*w) / (4*w)\n",
    "theta.shape = (4, w)\n",
    "theta[0,:] = 1 - theta[1:,:].sum(axis=0)\n",
    "for rep in np.arange(200):\n",
    "    pi = np.full((k, ), 1, dtype='float32')\n",
    "    for i in np.arange(k):\n",
    "        ix = X[i,:] - 1\n",
    "        mask = (ix[:, None] == np.arange(theta.shape[0])).T\n",
    "        prod_theta = np.prod(theta[mask])\n",
    "        prod_thetaB = np.prod(np.take(thetaB, ix))\n",
    "        pi[i] = (alfa * prod_theta) / (alfa * prod_theta + (1 - alfa) * prod_thetaB)\n",
    "    for m in np.arange(4):\n",
    "        for l in np.arange(w):\n",
    "            theta[m, l] = np.sum(np.array((X[:, l] == m + 1), dtype='float32') * pi) / np.sum(pi)\n",
    "    for m in np.arange(4):\n",
    "        sum_theta = 0\n",
    "        sum_pi = w * np.sum(1 - pi)\n",
    "        for j in np.arange(k):\n",
    "            sum_theta = sum_theta + (1 - pi[j]) * np.sum(X[j, :] == m + 1)\n",
    "        thetaB[m] = sum_theta / sum_pi\n"
   ],
   "metadata": {
    "collapsed": false,
    "pycharm": {
     "name": "#%%\n"
    }
   }
  },
  {
   "cell_type": "code",
   "execution_count": 187,
   "outputs": [
    {
     "data": {
      "text/plain": "0.0950566780708214"
     },
     "execution_count": 187,
     "metadata": {},
     "output_type": "execute_result"
    }
   ],
   "source": [
    "(3/2 * calc_dtv(theta, Theta) + calc_dtv(thetaB, ThetaB)) * 1/4"
   ],
   "metadata": {
    "collapsed": false,
    "pycharm": {
     "name": "#%%\n"
    }
   }
  },
  {
   "cell_type": "code",
   "execution_count": 158,
   "outputs": [
    {
     "data": {
      "text/plain": "0.05777039091024648"
     },
     "execution_count": 158,
     "metadata": {},
     "output_type": "execute_result"
    }
   ],
   "source": [
    "calc_dtv(thetaB, ThetaB)"
   ],
   "metadata": {
    "collapsed": false,
    "pycharm": {
     "name": "#%%\n"
    }
   }
  },
  {
   "cell_type": "code",
   "execution_count": 76,
   "outputs": [
    {
     "data": {
      "text/plain": "array([[ True, False, False],\n       [False, False, False],\n       [False, False, False],\n       [False,  True,  True]])"
     },
     "execution_count": 76,
     "metadata": {},
     "output_type": "execute_result"
    }
   ],
   "source": [
    "thetaB = np.full((4,), 1 / 4)\n",
    "theta = np.full((4, w), 1) / 4\n",
    "\n",
    "i=1\n",
    "pi = np.full((k, ), 1, dtype='float32')\n",
    "ix = X[i,:] - 1\n",
    "mask = (ix[:, None] == np.arange(theta.shape[0])).T\n",
    "prod_theta = np.prod(theta[mask])\n",
    "prod_thetaB = np.prod(np.take(thetaB, ix))\n",
    "pi[i] = (alfa * prod_theta) / (alfa * prod_theta + (1 - alfa) * prod_thetaB)\n",
    "\n",
    "X[i,:]\n",
    "mask"
   ],
   "metadata": {
    "collapsed": false,
    "pycharm": {
     "name": "#%%\n"
    }
   }
  },
  {
   "cell_type": "code",
   "execution_count": 81,
   "outputs": [
    {
     "data": {
      "text/plain": "array([1, 4, 4])"
     },
     "execution_count": 81,
     "metadata": {},
     "output_type": "execute_result"
    }
   ],
   "source": [
    "X[i,:]"
   ],
   "metadata": {
    "collapsed": false,
    "pycharm": {
     "name": "#%%\n"
    }
   }
  },
  {
   "cell_type": "code",
   "execution_count": 58,
   "outputs": [
    {
     "data": {
      "text/plain": "0.05780763073851396"
     },
     "execution_count": 58,
     "metadata": {},
     "output_type": "execute_result"
    }
   ],
   "source": [
    "calc_dtv(thetaB, ThetaB)"
   ],
   "metadata": {
    "collapsed": false,
    "pycharm": {
     "name": "#%%\n"
    }
   }
  },
  {
   "cell_type": "code",
   "execution_count": 5,
   "outputs": [
    {
     "ename": "TypeError",
     "evalue": "Cannot cast array data from dtype('float64') to dtype('int64') according to the rule 'safe'",
     "output_type": "error",
     "traceback": [
      "\u001B[1;31m---------------------------------------------------------------------------\u001B[0m",
      "\u001B[1;31mTypeError\u001B[0m                                 Traceback (most recent call last)",
      "File \u001B[1;32m~\\AppData\\Local\\Programs\\Python\\Python310\\lib\\site-packages\\numpy\\core\\fromnumeric.py:57\u001B[0m, in \u001B[0;36m_wrapfunc\u001B[1;34m(obj, method, *args, **kwds)\u001B[0m\n\u001B[0;32m     56\u001B[0m \u001B[38;5;28;01mtry\u001B[39;00m:\n\u001B[1;32m---> 57\u001B[0m     \u001B[38;5;28;01mreturn\u001B[39;00m bound(\u001B[38;5;241m*\u001B[39margs, \u001B[38;5;241m*\u001B[39m\u001B[38;5;241m*\u001B[39mkwds)\n\u001B[0;32m     58\u001B[0m \u001B[38;5;28;01mexcept\u001B[39;00m \u001B[38;5;167;01mTypeError\u001B[39;00m:\n\u001B[0;32m     59\u001B[0m     \u001B[38;5;66;03m# A TypeError occurs if the object does have such a method in its\u001B[39;00m\n\u001B[0;32m     60\u001B[0m     \u001B[38;5;66;03m# class, but its signature is not identical to that of NumPy's. This\u001B[39;00m\n\u001B[1;32m   (...)\u001B[0m\n\u001B[0;32m     64\u001B[0m     \u001B[38;5;66;03m# Call _wrapit from within the except clause to ensure a potential\u001B[39;00m\n\u001B[0;32m     65\u001B[0m     \u001B[38;5;66;03m# exception has a traceback chain.\u001B[39;00m\n",
      "\u001B[1;31mTypeError\u001B[0m: Cannot cast array data from dtype('float64') to dtype('int64') according to the rule 'safe'",
      "\nDuring handling of the above exception, another exception occurred:\n",
      "\u001B[1;31mTypeError\u001B[0m                                 Traceback (most recent call last)",
      "Input \u001B[1;32mIn [5]\u001B[0m, in \u001B[0;36m<cell line: 1>\u001B[1;34m()\u001B[0m\n\u001B[1;32m----> 1\u001B[0m res \u001B[38;5;241m=\u001B[39m \u001B[43mrun_em\u001B[49m\u001B[43m(\u001B[49m\u001B[43mX\u001B[49m\u001B[43m,\u001B[49m\u001B[43m \u001B[49m\u001B[43malpha\u001B[49m\u001B[38;5;241;43m=\u001B[39;49m\u001B[38;5;241;43m0.5\u001B[39;49m\u001B[43m)\u001B[49m\n",
      "File \u001B[1;32mD:\\Studia\\mocadr_proj2\\funs.py:56\u001B[0m, in \u001B[0;36mrun_em\u001B[1;34m(data, alpha, max_iter, min_diff)\u001B[0m\n\u001B[0;32m     53\u001B[0m \u001B[38;5;28;01mwhile\u001B[39;00m (rep \u001B[38;5;241m<\u001B[39m max_iter) \u001B[38;5;241m&\u001B[39m ((min_diff \u001B[38;5;241m<\u001B[39m norm) \u001B[38;5;241m|\u001B[39m (min_diff \u001B[38;5;241m<\u001B[39m normB)):\n\u001B[0;32m     54\u001B[0m     \u001B[38;5;66;03m# Calculating pi\u001B[39;00m\n\u001B[0;32m     55\u001B[0m     calc_pi_mapfunc \u001B[38;5;241m=\u001B[39m partial(calc_pii, theta\u001B[38;5;241m=\u001B[39mtheta, thetaB\u001B[38;5;241m=\u001B[39mthetaB, alpha\u001B[38;5;241m=\u001B[39malpha)\n\u001B[1;32m---> 56\u001B[0m     pi \u001B[38;5;241m=\u001B[39m np\u001B[38;5;241m.\u001B[39marray(\u001B[38;5;28;43mlist\u001B[39;49m\u001B[43m(\u001B[49m\u001B[38;5;28;43mmap\u001B[39;49m\u001B[43m(\u001B[49m\u001B[43mcalc_pi_mapfunc\u001B[49m\u001B[43m,\u001B[49m\u001B[43m \u001B[49m\u001B[43mdata\u001B[49m\u001B[43m)\u001B[49m\u001B[43m)\u001B[49m)\n\u001B[0;32m     57\u001B[0m     \u001B[38;5;28;01mfor\u001B[39;00m m \u001B[38;5;129;01min\u001B[39;00m np\u001B[38;5;241m.\u001B[39marange(\u001B[38;5;241m4\u001B[39m):\n\u001B[0;32m     58\u001B[0m         \u001B[38;5;66;03m# Derivative for Theta\u001B[39;00m\n\u001B[0;32m     59\u001B[0m         numerator \u001B[38;5;241m=\u001B[39m (np\u001B[38;5;241m.\u001B[39marray((data \u001B[38;5;241m==\u001B[39m m \u001B[38;5;241m+\u001B[39m \u001B[38;5;241m1\u001B[39m), dtype\u001B[38;5;241m=\u001B[39m\u001B[38;5;124m'\u001B[39m\u001B[38;5;124mfloat32\u001B[39m\u001B[38;5;124m'\u001B[39m)\u001B[38;5;241m.\u001B[39mT \u001B[38;5;241m*\u001B[39m pi)\u001B[38;5;241m.\u001B[39mT\n",
      "File \u001B[1;32mD:\\Studia\\mocadr_proj2\\funs.py:33\u001B[0m, in \u001B[0;36mcalc_pii\u001B[1;34m(vec, theta, thetaB, alpha)\u001B[0m\n\u001B[0;32m     31\u001B[0m mask \u001B[38;5;241m=\u001B[39m (ix[:, \u001B[38;5;28;01mNone\u001B[39;00m] \u001B[38;5;241m==\u001B[39m np\u001B[38;5;241m.\u001B[39marange(\u001B[38;5;241m4\u001B[39m))\u001B[38;5;241m.\u001B[39mT\n\u001B[0;32m     32\u001B[0m prod_theta \u001B[38;5;241m=\u001B[39m np\u001B[38;5;241m.\u001B[39mprod(theta[mask])\n\u001B[1;32m---> 33\u001B[0m prod_thetaB \u001B[38;5;241m=\u001B[39m np\u001B[38;5;241m.\u001B[39mprod(\u001B[43mnp\u001B[49m\u001B[38;5;241;43m.\u001B[39;49m\u001B[43mtake\u001B[49m\u001B[43m(\u001B[49m\u001B[43mthetaB\u001B[49m\u001B[43m,\u001B[49m\u001B[43m \u001B[49m\u001B[43mix\u001B[49m\u001B[43m)\u001B[49m)\n\u001B[0;32m     34\u001B[0m res \u001B[38;5;241m=\u001B[39m (alpha \u001B[38;5;241m*\u001B[39m prod_theta) \u001B[38;5;241m/\u001B[39m (alpha \u001B[38;5;241m*\u001B[39m prod_theta \u001B[38;5;241m+\u001B[39m (\u001B[38;5;241m1\u001B[39m \u001B[38;5;241m-\u001B[39m alpha) \u001B[38;5;241m*\u001B[39m prod_thetaB)\n\u001B[0;32m     35\u001B[0m \u001B[38;5;28;01mreturn\u001B[39;00m res\n",
      "File \u001B[1;32m<__array_function__ internals>:180\u001B[0m, in \u001B[0;36mtake\u001B[1;34m(*args, **kwargs)\u001B[0m\n",
      "File \u001B[1;32m~\\AppData\\Local\\Programs\\Python\\Python310\\lib\\site-packages\\numpy\\core\\fromnumeric.py:190\u001B[0m, in \u001B[0;36mtake\u001B[1;34m(a, indices, axis, out, mode)\u001B[0m\n\u001B[0;32m     93\u001B[0m \u001B[38;5;129m@array_function_dispatch\u001B[39m(_take_dispatcher)\n\u001B[0;32m     94\u001B[0m \u001B[38;5;28;01mdef\u001B[39;00m \u001B[38;5;21mtake\u001B[39m(a, indices, axis\u001B[38;5;241m=\u001B[39m\u001B[38;5;28;01mNone\u001B[39;00m, out\u001B[38;5;241m=\u001B[39m\u001B[38;5;28;01mNone\u001B[39;00m, mode\u001B[38;5;241m=\u001B[39m\u001B[38;5;124m'\u001B[39m\u001B[38;5;124mraise\u001B[39m\u001B[38;5;124m'\u001B[39m):\n\u001B[0;32m     95\u001B[0m     \u001B[38;5;124;03m\"\"\"\u001B[39;00m\n\u001B[0;32m     96\u001B[0m \u001B[38;5;124;03m    Take elements from an array along an axis.\u001B[39;00m\n\u001B[0;32m     97\u001B[0m \n\u001B[1;32m   (...)\u001B[0m\n\u001B[0;32m    188\u001B[0m \u001B[38;5;124;03m           [5, 7]])\u001B[39;00m\n\u001B[0;32m    189\u001B[0m \u001B[38;5;124;03m    \"\"\"\u001B[39;00m\n\u001B[1;32m--> 190\u001B[0m     \u001B[38;5;28;01mreturn\u001B[39;00m \u001B[43m_wrapfunc\u001B[49m\u001B[43m(\u001B[49m\u001B[43ma\u001B[49m\u001B[43m,\u001B[49m\u001B[43m \u001B[49m\u001B[38;5;124;43m'\u001B[39;49m\u001B[38;5;124;43mtake\u001B[39;49m\u001B[38;5;124;43m'\u001B[39;49m\u001B[43m,\u001B[49m\u001B[43m \u001B[49m\u001B[43mindices\u001B[49m\u001B[43m,\u001B[49m\u001B[43m \u001B[49m\u001B[43maxis\u001B[49m\u001B[38;5;241;43m=\u001B[39;49m\u001B[43maxis\u001B[49m\u001B[43m,\u001B[49m\u001B[43m \u001B[49m\u001B[43mout\u001B[49m\u001B[38;5;241;43m=\u001B[39;49m\u001B[43mout\u001B[49m\u001B[43m,\u001B[49m\u001B[43m \u001B[49m\u001B[43mmode\u001B[49m\u001B[38;5;241;43m=\u001B[39;49m\u001B[43mmode\u001B[49m\u001B[43m)\u001B[49m\n",
      "File \u001B[1;32m~\\AppData\\Local\\Programs\\Python\\Python310\\lib\\site-packages\\numpy\\core\\fromnumeric.py:66\u001B[0m, in \u001B[0;36m_wrapfunc\u001B[1;34m(obj, method, *args, **kwds)\u001B[0m\n\u001B[0;32m     57\u001B[0m     \u001B[38;5;28;01mreturn\u001B[39;00m bound(\u001B[38;5;241m*\u001B[39margs, \u001B[38;5;241m*\u001B[39m\u001B[38;5;241m*\u001B[39mkwds)\n\u001B[0;32m     58\u001B[0m \u001B[38;5;28;01mexcept\u001B[39;00m \u001B[38;5;167;01mTypeError\u001B[39;00m:\n\u001B[0;32m     59\u001B[0m     \u001B[38;5;66;03m# A TypeError occurs if the object does have such a method in its\u001B[39;00m\n\u001B[0;32m     60\u001B[0m     \u001B[38;5;66;03m# class, but its signature is not identical to that of NumPy's. This\u001B[39;00m\n\u001B[1;32m   (...)\u001B[0m\n\u001B[0;32m     64\u001B[0m     \u001B[38;5;66;03m# Call _wrapit from within the except clause to ensure a potential\u001B[39;00m\n\u001B[0;32m     65\u001B[0m     \u001B[38;5;66;03m# exception has a traceback chain.\u001B[39;00m\n\u001B[1;32m---> 66\u001B[0m     \u001B[38;5;28;01mreturn\u001B[39;00m _wrapit(obj, method, \u001B[38;5;241m*\u001B[39margs, \u001B[38;5;241m*\u001B[39m\u001B[38;5;241m*\u001B[39mkwds)\n",
      "File \u001B[1;32m~\\AppData\\Local\\Programs\\Python\\Python310\\lib\\site-packages\\numpy\\core\\fromnumeric.py:43\u001B[0m, in \u001B[0;36m_wrapit\u001B[1;34m(obj, method, *args, **kwds)\u001B[0m\n\u001B[0;32m     41\u001B[0m \u001B[38;5;28;01mexcept\u001B[39;00m \u001B[38;5;167;01mAttributeError\u001B[39;00m:\n\u001B[0;32m     42\u001B[0m     wrap \u001B[38;5;241m=\u001B[39m \u001B[38;5;28;01mNone\u001B[39;00m\n\u001B[1;32m---> 43\u001B[0m result \u001B[38;5;241m=\u001B[39m \u001B[38;5;28mgetattr\u001B[39m(asarray(obj), method)(\u001B[38;5;241m*\u001B[39margs, \u001B[38;5;241m*\u001B[39m\u001B[38;5;241m*\u001B[39mkwds)\n\u001B[0;32m     44\u001B[0m \u001B[38;5;28;01mif\u001B[39;00m wrap:\n\u001B[0;32m     45\u001B[0m     \u001B[38;5;28;01mif\u001B[39;00m \u001B[38;5;129;01mnot\u001B[39;00m \u001B[38;5;28misinstance\u001B[39m(result, mu\u001B[38;5;241m.\u001B[39mndarray):\n",
      "\u001B[1;31mTypeError\u001B[0m: Cannot cast array data from dtype('float64') to dtype('int64') according to the rule 'safe'"
     ]
    }
   ],
   "source": [
    "res = run_em(X, alpha=0.5)"
   ],
   "metadata": {
    "collapsed": false,
    "pycharm": {
     "name": "#%%\n"
    }
   }
  },
  {
   "cell_type": "code",
   "execution_count": 47,
   "outputs": [],
   "source": [
    "tic1 = time()\n",
    "thetaB = np.full((4,), 1 / 4)\n",
    "theta = np.full((4, w), 1) / 4\n",
    "for rep in np.arange(500):\n",
    "    pi = np.full((k, ), 1, dtype='float32')\n",
    "    for i in np.arange(k):\n",
    "        ix = X[i,:] - 1\n",
    "        mask = (ix[:, None] == np.arange(theta.shape[0])).T\n",
    "        prod_theta = np.prod(theta[mask])\n",
    "        prod_thetaB = np.prod(np.take(thetaB, ix))\n",
    "        pi[i] = (alfa * prod_theta) / (alfa * prod_theta + (1 - alfa) * prod_thetaB)\n",
    "    for m in np.arange(4):\n",
    "        # Derivative for Theta\n",
    "        numerator = (np.array((X == m + 1), dtype='float32').T * pi).T\n",
    "        theta[m, :] = np.apply_along_axis(np.sum, axis=0, arr=numerator) / np.sum(pi)\n",
    "        # Derivative for ThetaB\n",
    "        Al = np.apply_along_axis(np.sum, axis=1, arr=(X == m + 1))\n",
    "        thetaB[m] = (np.sum((1 - pi) * Al)) / (w * np.sum(1 - pi))\n",
    "toc1 = time()"
   ],
   "metadata": {
    "collapsed": false,
    "pycharm": {
     "name": "#%%\n"
    }
   }
  },
  {
   "cell_type": "code",
   "execution_count": 41,
   "outputs": [
    {
     "name": "stdout",
     "output_type": "stream",
     "text": [
      "21.003689765930176\n"
     ]
    }
   ],
   "source": [
    "print(toc1 - tic1)"
   ],
   "metadata": {
    "collapsed": false,
    "pycharm": {
     "name": "#%%\n"
    }
   }
  },
  {
   "cell_type": "code",
   "execution_count": 71,
   "outputs": [],
   "source": [
    "def calc_pii(vec, theta, thetaB, alpha: float) -> np.ndarray:\n",
    "    ix = vec - 1\n",
    "    mask = (ix[:, None] == np.arange(4)).T\n",
    "    prod_theta = np.prod(theta[mask])\n",
    "    prod_thetaB = np.prod(np.take(thetaB, ix))\n",
    "    res = (alpha * prod_theta) / (alpha * prod_theta + (1 - alpha) * prod_thetaB)\n",
    "    return res"
   ],
   "metadata": {
    "collapsed": false,
    "pycharm": {
     "name": "#%%\n"
    }
   }
  },
  {
   "cell_type": "code",
   "execution_count": 10,
   "outputs": [],
   "source": [
    "max_iter = 1000\n",
    "a = np.zeros((max_iter, ))\n",
    "b = np.zeros((max_iter, ))"
   ],
   "metadata": {
    "collapsed": false,
    "pycharm": {
     "name": "#%%\n"
    }
   }
  },
  {
   "cell_type": "code",
   "execution_count": 12,
   "outputs": [],
   "source": [
    "X = np.array(X, dtype='int64')\n",
    "w = X.shape[1]\n",
    "tic = time()\n",
    "thetaB = np.full((4,), 1 / 4)\n",
    "theta = np.full((4, w), 1) / 4\n",
    "rep = 0\n",
    "theta_next = copy.deepcopy(theta)\n",
    "thetaB_next = copy.deepcopy(thetaB)\n",
    "while rep < max_iter:\n",
    "    # Calculating pi\n",
    "    calc_pi_mapfunc = partial(calc_pii, theta=theta, thetaB=thetaB, alpha=alfa)\n",
    "    pi = np.array(list(map(calc_pi_mapfunc, X)))\n",
    "    for m in np.arange(4):\n",
    "        # Derivative for Theta\n",
    "        numerator = (np.array((X == m + 1), dtype='float32').T * pi).T\n",
    "        theta_next[m, :] = np.apply_along_axis(np.sum, axis=0, arr=numerator) / np.sum(pi)\n",
    "        # Derivative for ThetaB\n",
    "        Al = np.apply_along_axis(np.sum, axis=1, arr=(X == m + 1))\n",
    "        thetaB_next[m] = (np.sum((1 - pi) * Al)) / (w * np.sum(1 - pi))\n",
    "    diff = theta_next - theta\n",
    "    norm = ((diff ** 2).sum()) / 4 * w\n",
    "    diffB = thetaB_next - thetaB\n",
    "    normB = ((diffB ** 2).sum()) / 4\n",
    "    theta = copy.deepcopy(theta_next)\n",
    "    thetaB = copy.deepcopy(thetaB_next)\n",
    "    a[rep] = norm\n",
    "    b[rep] = normB\n",
    "    rep += 1\n",
    "toc = time()"
   ],
   "metadata": {
    "collapsed": false,
    "pycharm": {
     "name": "#%%\n"
    }
   }
  },
  {
   "cell_type": "markdown",
   "source": [],
   "metadata": {
    "collapsed": false,
    "pycharm": {
     "name": "#%% md\n"
    }
   }
  },
  {
   "cell_type": "code",
   "execution_count": 15,
   "outputs": [
    {
     "data": {
      "text/plain": "array([0.14857816, 0.20859138, 0.28102925, 0.3618012 ])"
     },
     "execution_count": 15,
     "metadata": {},
     "output_type": "execute_result"
    }
   ],
   "source": [
    "thetaB"
   ],
   "metadata": {
    "collapsed": false,
    "pycharm": {
     "name": "#%%\n"
    }
   }
  },
  {
   "cell_type": "code",
   "execution_count": 121,
   "outputs": [],
   "source": [
    "import matplotlib.pyplot as plt"
   ],
   "metadata": {
    "collapsed": false,
    "pycharm": {
     "name": "#%%\n"
    }
   }
  },
  {
   "cell_type": "code",
   "execution_count": 122,
   "outputs": [],
   "source": [
    "xpoints = np.arange(max_iter)"
   ],
   "metadata": {
    "collapsed": false,
    "pycharm": {
     "name": "#%%\n"
    }
   }
  },
  {
   "cell_type": "code",
   "execution_count": 125,
   "outputs": [
    {
     "data": {
      "text/plain": "array([  1,   2,   3,   4,   5,   6,   7,   8,   9,  10,  11,  12,  13,\n        14,  15,  16,  17,  18,  19,  20,  21,  22,  23,  24,  25,  26,\n        27,  28,  29,  30,  31,  32,  33,  34,  35,  36,  37,  38,  39,\n        40,  41,  42,  43,  44,  45,  46,  47,  48,  49,  50,  51,  52,\n        53,  54,  55,  56,  57,  58,  59,  60,  61,  62,  63,  64,  65,\n        66,  67,  68,  69,  70,  71,  72,  73,  74,  75,  76,  77,  78,\n        79,  80,  81,  82,  83,  84,  85,  86,  87,  88,  89,  90,  91,\n        92,  93,  94,  95,  96,  97,  98,  99, 100, 101, 102, 103, 104,\n       105, 106, 107, 108, 109, 110, 111, 112, 113, 114, 115, 116, 117,\n       118, 119, 120, 121, 122, 123, 124, 125, 126, 127, 128, 129, 130,\n       131, 132, 133, 134, 135, 136, 137, 138, 139, 140, 141, 142, 143,\n       144, 145, 146, 147, 148, 149, 150, 151, 152, 153, 154, 155, 156,\n       157, 158, 159, 160, 161, 162, 163, 164, 165, 166, 167, 168, 169,\n       170, 171, 172, 173, 174, 175, 176, 177, 178, 179, 180, 181, 182,\n       183, 184, 185, 186, 187, 188, 189, 190, 191, 192, 193, 194, 195,\n       196, 197, 198, 199, 200, 201, 202, 203, 204, 205, 206, 207, 208,\n       209, 210, 211, 212, 213, 214, 215, 216, 217, 218, 219, 220, 221,\n       222, 223, 224, 225, 226, 227, 228, 229, 230, 231, 232, 233, 234,\n       235, 236, 237, 238, 239, 240, 241, 242, 243, 244, 245, 246, 247,\n       248, 249, 250, 251, 252, 253, 254, 255, 256, 257, 258, 259, 260,\n       261, 262, 263, 264, 265, 266, 267, 268, 269, 270, 271, 272, 273,\n       274, 275, 276, 277, 278, 279, 280, 281, 282, 283, 284, 285, 286,\n       287, 288, 289, 290, 291, 292, 293, 294, 295, 296, 297, 298, 299,\n       300, 301, 302, 303, 304, 305, 306, 307, 308, 309, 310, 311, 312,\n       313, 314, 315, 316, 317, 318, 319, 320, 321, 322, 323, 324, 325,\n       326, 327, 328, 329, 330, 331, 332, 333, 334, 335, 336, 337, 338,\n       339, 340, 341, 342, 343, 344, 345, 346, 347, 348, 349, 350, 351,\n       352, 353, 354, 355, 356, 357, 358, 359, 360, 361, 362, 363, 364,\n       365, 366, 367, 368, 369, 370, 371, 372, 373, 374, 375, 376, 377,\n       378, 379, 380, 381, 382, 383, 384, 385, 386, 387, 388, 389, 390,\n       391, 392, 393, 394, 395, 396, 397, 398, 399, 400, 401, 402, 403,\n       404, 405, 406, 407, 408, 409, 410, 411, 412, 413, 414, 415, 416,\n       417, 418, 419, 420, 421, 422, 423, 424, 425, 426, 427, 428, 429,\n       430, 431, 432, 433, 434, 435, 436, 437, 438, 439, 440, 441, 442,\n       443, 444, 445, 446, 447, 448, 449, 450, 451, 452, 453, 454, 455,\n       456, 457, 458, 459, 460, 461, 462, 463, 464, 465, 466, 467, 468,\n       469, 470, 471, 472, 473, 474, 475, 476, 477, 478, 479, 480, 481,\n       482, 483, 484, 485, 486, 487, 488, 489, 490, 491, 492, 493, 494,\n       495, 496, 497, 498, 499, 500, 501, 502, 503, 504, 505, 506, 507,\n       508, 509, 510, 511, 512, 513, 514, 515, 516, 517, 518, 519, 520,\n       521, 522, 523, 524, 525, 526, 527, 528, 529, 530, 531, 532, 533,\n       534, 535, 536, 537, 538, 539, 540, 541, 542, 543, 544, 545, 546,\n       547, 548, 549, 550, 551, 552, 553, 554, 555, 556, 557, 558, 559,\n       560, 561, 562, 563, 564, 565, 566, 567, 568, 569, 570, 571, 572,\n       573, 574, 575, 576, 577, 578, 579, 580, 581, 582, 583, 584, 585,\n       586, 587, 588, 589, 590, 591, 592, 593, 594, 595, 596, 597, 598,\n       599, 600, 601, 602, 603, 604, 605, 606, 607, 608, 609, 610, 611,\n       612, 613, 614, 615, 616, 617, 618, 619, 620, 621, 622, 623, 624,\n       625, 626, 627, 628, 629, 630, 631, 632, 633, 634, 635, 636, 637,\n       638, 639, 640, 641, 642, 643, 644, 645, 646, 647, 648, 649, 650,\n       651, 652, 653, 654, 655, 656, 657, 658, 659, 660, 661, 662, 663,\n       664, 665, 666, 667, 668, 669, 670, 671, 672, 673, 674, 675, 676,\n       677, 678, 679, 680, 681, 682, 683, 684, 685, 686, 687, 688, 689,\n       690, 691, 692, 693, 694, 695, 696, 697, 698, 699, 700, 701, 702,\n       703, 704, 705, 706, 707, 708, 709, 710, 711, 712, 713, 714, 715,\n       716, 717, 718, 719, 720, 721, 722, 723, 724, 725, 726, 727, 728,\n       729, 730, 731, 732, 733, 734, 735, 736, 737, 738, 739, 740, 741,\n       742, 743, 744, 745, 746, 747, 748, 749, 750, 751, 752, 753, 754,\n       755, 756, 757, 758, 759, 760, 761, 762, 763, 764, 765, 766, 767,\n       768, 769, 770, 771, 772, 773, 774, 775, 776, 777, 778, 779, 780,\n       781, 782, 783, 784, 785, 786, 787, 788, 789, 790, 791, 792, 793,\n       794, 795, 796, 797, 798, 799, 800, 801, 802, 803, 804, 805, 806,\n       807, 808, 809, 810, 811, 812, 813, 814, 815, 816, 817, 818, 819,\n       820, 821, 822, 823, 824, 825, 826, 827, 828, 829, 830, 831, 832,\n       833, 834, 835, 836, 837, 838, 839, 840, 841, 842, 843, 844, 845,\n       846, 847, 848, 849, 850, 851, 852, 853, 854, 855, 856, 857, 858,\n       859, 860, 861, 862, 863, 864, 865, 866, 867, 868, 869, 870, 871,\n       872, 873, 874, 875, 876, 877, 878, 879, 880, 881, 882, 883, 884,\n       885, 886, 887, 888, 889, 890, 891, 892, 893, 894, 895, 896, 897,\n       898, 899, 900, 901, 902, 903, 904, 905, 906, 907, 908, 909, 910,\n       911, 912, 913, 914, 915, 916, 917, 918, 919, 920, 921, 922, 923,\n       924, 925, 926, 927, 928, 929, 930, 931, 932, 933, 934, 935, 936,\n       937, 938, 939, 940, 941, 942, 943, 944, 945, 946, 947, 948, 949,\n       950, 951, 952, 953, 954, 955, 956, 957, 958, 959, 960, 961, 962,\n       963, 964, 965, 966, 967, 968, 969, 970, 971, 972, 973, 974, 975,\n       976, 977, 978, 979, 980, 981, 982, 983, 984, 985, 986, 987, 988,\n       989, 990, 991, 992, 993, 994, 995, 996, 997, 998, 999])"
     },
     "execution_count": 125,
     "metadata": {},
     "output_type": "execute_result"
    }
   ],
   "source": [],
   "metadata": {
    "collapsed": false,
    "pycharm": {
     "name": "#%%\n"
    }
   }
  },
  {
   "cell_type": "code",
   "execution_count": 135,
   "outputs": [
    {
     "data": {
      "text/plain": "<Figure size 432x288 with 1 Axes>",
      "image/png": "[encoded data removed]"
     },
     "metadata": {
      "needs_background": "light"
     },
     "output_type": "display_data"
    }
   ],
   "source": [
    "plt.plot(xpoints[900:], a[900:])\n",
    "plt.show()"
   ],
   "metadata": {
    "collapsed": false,
    "pycharm": {
     "name": "#%%\n"
    }
   }
  }
 ],
 "metadata": {
  "kernelspec": {
   "display_name": "Python 3",
   "language": "python",
   "name": "python3"
  },
  "language_info": {
   "codemirror_mode": {
    "name": "ipython",
    "version": 2
   },
   "file_extension": ".py",
   "mimetype": "text/x-python",
   "name": "python",
   "nbconvert_exporter": "python",
   "pygments_lexer": "ipython2",
   "version": "2.7.6"
  }
 },
 "nbformat": 4,
 "nbformat_minor": 0
}