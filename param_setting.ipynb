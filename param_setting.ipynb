{
 "cells": [
  {
   "cell_type": "code",
   "execution_count": 1,
   "outputs": [],
   "source": [
    "import numpy as np\n",
    "import pandas as pd\n",
    "from plotnine import *"
   ],
   "metadata": {
    "collapsed": false,
    "pycharm": {
     "name": "#%%\n"
    }
   }
  },
  {
   "cell_type": "markdown",
   "source": [
    "# Stop condition for algorithm"
   ],
   "metadata": {
    "collapsed": false,
    "pycharm": {
     "name": "#%% md\n"
    }
   }
  },
  {
   "cell_type": "markdown",
   "source": [
    "## Looking for best $\\epsilon$"
   ],
   "metadata": {
    "collapsed": false,
    "pycharm": {
     "name": "#%% md\n"
    }
   }
  },
  {
   "cell_type": "code",
   "execution_count": 102,
   "outputs": [],
   "source": [
    "res_stopcon = pd.read_csv('Results/results_stop_cond_final.csv')"
   ],
   "metadata": {
    "collapsed": false,
    "pycharm": {
     "name": "#%%\n"
    }
   }
  },
  {
   "cell_type": "code",
   "execution_count": 103,
   "outputs": [],
   "source": [
    "res_small = res_stopcon[res_stopcon['case'] == 'small']\n",
    "res_big = res_stopcon[res_stopcon['case'] == 'big']"
   ],
   "metadata": {
    "collapsed": false,
    "pycharm": {
     "name": "#%%\n"
    }
   }
  },
  {
   "cell_type": "code",
   "execution_count": 104,
   "outputs": [
    {
     "name": "stderr",
     "output_type": "stream",
     "text": [
      "C:\\Users\\dmika\\AppData\\Local\\Temp\\ipykernel_32656\\1416578753.py:1: SettingWithCopyWarning: \n",
      "A value is trying to be set on a copy of a slice from a DataFrame.\n",
      "Try using .loc[row_indexer,col_indexer] = value instead\n",
      "\n",
      "See the caveats in the documentation: https://pandas.pydata.org/pandas-docs/stable/user_guide/indexing.html#returning-a-view-versus-a-copy\n",
      "C:\\Users\\dmika\\AppData\\Local\\Temp\\ipykernel_32656\\1416578753.py:2: SettingWithCopyWarning: \n",
      "A value is trying to be set on a copy of a slice from a DataFrame.\n",
      "Try using .loc[row_indexer,col_indexer] = value instead\n",
      "\n",
      "See the caveats in the documentation: https://pandas.pydata.org/pandas-docs/stable/user_guide/indexing.html#returning-a-view-versus-a-copy\n"
     ]
    }
   ],
   "source": [
    "res_small['lag1_diff'] = res_small['dtv'] - res_small['dtv'].shift(-1)\n",
    "res_big['lag1_diff'] = res_big['dtv'] - res_big['dtv'].shift(-1)"
   ],
   "metadata": {
    "collapsed": false,
    "pycharm": {
     "name": "#%%\n"
    }
   }
  },
  {
   "cell_type": "code",
   "execution_count": 105,
   "outputs": [
    {
     "data": {
      "text/plain": "1.2067926406393289e-05"
     },
     "execution_count": 105,
     "metadata": {},
     "output_type": "execute_result"
    }
   ],
   "source": [
    "res_small.loc[res_small['dtv'].idxmin()]['min_diff']"
   ],
   "metadata": {
    "collapsed": false,
    "pycharm": {
     "name": "#%%\n"
    }
   }
  },
  {
   "cell_type": "code",
   "execution_count": 107,
   "outputs": [
    {
     "data": {
      "text/plain": "min_diff      0.02223\ndtv          0.025754\ncase              big\nlag1_diff   -0.000181\nName: 52, dtype: object"
     },
     "execution_count": 107,
     "metadata": {},
     "output_type": "execute_result"
    }
   ],
   "source": [
    "res_big.loc[res_big['dtv'].idxmin()]['min_diff']"
   ],
   "metadata": {
    "collapsed": false,
    "pycharm": {
     "name": "#%%\n"
    }
   }
  },
  {
   "cell_type": "markdown",
   "source": [
    "# Results for different $\\alpha$"
   ],
   "metadata": {
    "collapsed": false,
    "pycharm": {
     "name": "#%% md\n"
    }
   }
  },
  {
   "cell_type": "code",
   "execution_count": 2,
   "outputs": [],
   "source": [
    "res_diffalpha = pd.read_csv('Results/results_diff_alpha.csv')"
   ],
   "metadata": {
    "collapsed": false,
    "pycharm": {
     "name": "#%%\n"
    }
   }
  },
  {
   "cell_type": "code",
   "execution_count": 24,
   "outputs": [
    {
     "data": {
      "text/plain": "alpha       0.501\ndtv      0.026891\ncase          big\nName: 76, dtype: object"
     },
     "execution_count": 24,
     "metadata": {},
     "output_type": "execute_result"
    }
   ],
   "source": [
    "res_diffalpha[res_diffalpha['case'] == 'big'].loc[res_diffalpha[res_diffalpha['case'] == 'big']['dtv'].idxmin()]"
   ],
   "metadata": {
    "collapsed": false,
    "pycharm": {
     "name": "#%%\n"
    }
   }
  },
  {
   "cell_type": "code",
   "execution_count": 25,
   "outputs": [
    {
     "data": {
      "text/plain": "alpha       0.901\ndtv      0.162506\ncase        small\nName: 45, dtype: object"
     },
     "execution_count": 25,
     "metadata": {},
     "output_type": "execute_result"
    }
   ],
   "source": [
    "res_diffalpha[res_diffalpha['case'] == 'small'].loc[res_diffalpha[res_diffalpha['case'] == 'small']['dtv'].idxmin()]"
   ],
   "metadata": {
    "collapsed": false,
    "pycharm": {
     "name": "#%%\n"
    }
   }
  },
  {
   "cell_type": "code",
   "execution_count": 27,
   "outputs": [
    {
     "data": {
      "text/plain": "     alpha       dtv case\n76   0.501  0.026891  big\n75   0.481  0.026973  big\n74   0.461  0.027462  big\n85   0.681  0.028789  big\n80   0.581  0.028965  big\n90   0.781  0.029175  big\n84   0.661  0.029197  big\n81   0.601  0.029261  big\n88   0.741  0.029363  big\n87   0.721  0.029563  big\n77   0.521  0.030036  big\n82   0.621  0.030057  big\n79   0.561  0.030159  big\n91   0.801  0.030359  big\n83   0.641  0.030363  big\n89   0.761  0.030415  big\n78   0.541  0.030680  big\n86   0.701  0.030682  big\n93   0.841  0.030984  big\n73   0.441  0.031025  big\n92   0.821  0.031137  big\n72   0.421  0.031785  big\n94   0.861  0.032676  big\n98   0.941  0.034004  big\n68   0.341  0.034085  big\n71   0.401  0.035188  big\n69   0.361  0.035268  big\n95   0.881  0.035418  big\n97   0.921  0.035782  big\n96   0.901  0.035828  big\n70   0.381  0.036433  big\n66   0.301  0.037103  big\n62   0.221  0.038197  big\n67   0.321  0.038212  big\n63   0.241  0.039124  big\n60   0.181  0.040105  big\n99   0.961  0.040867  big\n64   0.261  0.041016  big\n61   0.201  0.041474  big\n65   0.281  0.041508  big\n58   0.141  0.042888  big\n56   0.101  0.043819  big\n57   0.121  0.044433  big\n101  0.999  0.047606  big\n100  0.981  0.048429  big\n59   0.161  0.048735  big\n55   0.081  0.055883  big\n54   0.061  0.093218  big\n53   0.041  0.102864  big\n52   0.021  0.168229  big\n51   0.001  0.524867  big",
      "text/html": "<div>\n<style scoped>\n    .dataframe tbody tr th:only-of-type {\n        vertical-align: middle;\n    }\n\n    .dataframe tbody tr th {\n        vertical-align: top;\n    }\n\n    .dataframe thead th {\n        text-align: right;\n    }\n</style>\n<table border=\"1\" class=\"dataframe\">\n  <thead>\n    <tr style=\"text-align: right;\">\n      <th></th>\n      <th>alpha</th>\n      <th>dtv</th>\n      <th>case</th>\n    </tr>\n  </thead>\n  <tbody>\n    <tr>\n      <th>76</th>\n      <td>0.501</td>\n      <td>0.026891</td>\n      <td>big</td>\n    </tr>\n    <tr>\n      <th>75</th>\n      <td>0.481</td>\n      <td>0.026973</td>\n      <td>big</td>\n    </tr>\n    <tr>\n      <th>74</th>\n      <td>0.461</td>\n      <td>0.027462</td>\n      <td>big</td>\n    </tr>\n    <tr>\n      <th>85</th>\n      <td>0.681</td>\n      <td>0.028789</td>\n      <td>big</td>\n    </tr>\n    <tr>\n      <th>80</th>\n      <td>0.581</td>\n      <td>0.028965</td>\n      <td>big</td>\n    </tr>\n    <tr>\n      <th>90</th>\n      <td>0.781</td>\n      <td>0.029175</td>\n      <td>big</td>\n    </tr>\n    <tr>\n      <th>84</th>\n      <td>0.661</td>\n      <td>0.029197</td>\n      <td>big</td>\n    </tr>\n    <tr>\n      <th>81</th>\n      <td>0.601</td>\n      <td>0.029261</td>\n      <td>big</td>\n    </tr>\n    <tr>\n      <th>88</th>\n      <td>0.741</td>\n      <td>0.029363</td>\n      <td>big</td>\n    </tr>\n    <tr>\n      <th>87</th>\n      <td>0.721</td>\n      <td>0.029563</td>\n      <td>big</td>\n    </tr>\n    <tr>\n      <th>77</th>\n      <td>0.521</td>\n      <td>0.030036</td>\n      <td>big</td>\n    </tr>\n    <tr>\n      <th>82</th>\n      <td>0.621</td>\n      <td>0.030057</td>\n      <td>big</td>\n    </tr>\n    <tr>\n      <th>79</th>\n      <td>0.561</td>\n      <td>0.030159</td>\n      <td>big</td>\n    </tr>\n    <tr>\n      <th>91</th>\n      <td>0.801</td>\n      <td>0.030359</td>\n      <td>big</td>\n    </tr>\n    <tr>\n      <th>83</th>\n      <td>0.641</td>\n      <td>0.030363</td>\n      <td>big</td>\n    </tr>\n    <tr>\n      <th>89</th>\n      <td>0.761</td>\n      <td>0.030415</td>\n      <td>big</td>\n    </tr>\n    <tr>\n      <th>78</th>\n      <td>0.541</td>\n      <td>0.030680</td>\n      <td>big</td>\n    </tr>\n    <tr>\n      <th>86</th>\n      <td>0.701</td>\n      <td>0.030682</td>\n      <td>big</td>\n    </tr>\n    <tr>\n      <th>93</th>\n      <td>0.841</td>\n      <td>0.030984</td>\n      <td>big</td>\n    </tr>\n    <tr>\n      <th>73</th>\n      <td>0.441</td>\n      <td>0.031025</td>\n      <td>big</td>\n    </tr>\n    <tr>\n      <th>92</th>\n      <td>0.821</td>\n      <td>0.031137</td>\n      <td>big</td>\n    </tr>\n    <tr>\n      <th>72</th>\n      <td>0.421</td>\n      <td>0.031785</td>\n      <td>big</td>\n    </tr>\n    <tr>\n      <th>94</th>\n      <td>0.861</td>\n      <td>0.032676</td>\n      <td>big</td>\n    </tr>\n    <tr>\n      <th>98</th>\n      <td>0.941</td>\n      <td>0.034004</td>\n      <td>big</td>\n    </tr>\n    <tr>\n      <th>68</th>\n      <td>0.341</td>\n      <td>0.034085</td>\n      <td>big</td>\n    </tr>\n    <tr>\n      <th>71</th>\n      <td>0.401</td>\n      <td>0.035188</td>\n      <td>big</td>\n    </tr>\n    <tr>\n      <th>69</th>\n      <td>0.361</td>\n      <td>0.035268</td>\n      <td>big</td>\n    </tr>\n    <tr>\n      <th>95</th>\n      <td>0.881</td>\n      <td>0.035418</td>\n      <td>big</td>\n    </tr>\n    <tr>\n      <th>97</th>\n      <td>0.921</td>\n      <td>0.035782</td>\n      <td>big</td>\n    </tr>\n    <tr>\n      <th>96</th>\n      <td>0.901</td>\n      <td>0.035828</td>\n      <td>big</td>\n    </tr>\n    <tr>\n      <th>70</th>\n      <td>0.381</td>\n      <td>0.036433</td>\n      <td>big</td>\n    </tr>\n    <tr>\n      <th>66</th>\n      <td>0.301</td>\n      <td>0.037103</td>\n      <td>big</td>\n    </tr>\n    <tr>\n      <th>62</th>\n      <td>0.221</td>\n      <td>0.038197</td>\n      <td>big</td>\n    </tr>\n    <tr>\n      <th>67</th>\n      <td>0.321</td>\n      <td>0.038212</td>\n      <td>big</td>\n    </tr>\n    <tr>\n      <th>63</th>\n      <td>0.241</td>\n      <td>0.039124</td>\n      <td>big</td>\n    </tr>\n    <tr>\n      <th>60</th>\n      <td>0.181</td>\n      <td>0.040105</td>\n      <td>big</td>\n    </tr>\n    <tr>\n      <th>99</th>\n      <td>0.961</td>\n      <td>0.040867</td>\n      <td>big</td>\n    </tr>\n    <tr>\n      <th>64</th>\n      <td>0.261</td>\n      <td>0.041016</td>\n      <td>big</td>\n    </tr>\n    <tr>\n      <th>61</th>\n      <td>0.201</td>\n      <td>0.041474</td>\n      <td>big</td>\n    </tr>\n    <tr>\n      <th>65</th>\n      <td>0.281</td>\n      <td>0.041508</td>\n      <td>big</td>\n    </tr>\n    <tr>\n      <th>58</th>\n      <td>0.141</td>\n      <td>0.042888</td>\n      <td>big</td>\n    </tr>\n    <tr>\n      <th>56</th>\n      <td>0.101</td>\n      <td>0.043819</td>\n      <td>big</td>\n    </tr>\n    <tr>\n      <th>57</th>\n      <td>0.121</td>\n      <td>0.044433</td>\n      <td>big</td>\n    </tr>\n    <tr>\n      <th>101</th>\n      <td>0.999</td>\n      <td>0.047606</td>\n      <td>big</td>\n    </tr>\n    <tr>\n      <th>100</th>\n      <td>0.981</td>\n      <td>0.048429</td>\n      <td>big</td>\n    </tr>\n    <tr>\n      <th>59</th>\n      <td>0.161</td>\n      <td>0.048735</td>\n      <td>big</td>\n    </tr>\n    <tr>\n      <th>55</th>\n      <td>0.081</td>\n      <td>0.055883</td>\n      <td>big</td>\n    </tr>\n    <tr>\n      <th>54</th>\n      <td>0.061</td>\n      <td>0.093218</td>\n      <td>big</td>\n    </tr>\n    <tr>\n      <th>53</th>\n      <td>0.041</td>\n      <td>0.102864</td>\n      <td>big</td>\n    </tr>\n    <tr>\n      <th>52</th>\n      <td>0.021</td>\n      <td>0.168229</td>\n      <td>big</td>\n    </tr>\n    <tr>\n      <th>51</th>\n      <td>0.001</td>\n      <td>0.524867</td>\n      <td>big</td>\n    </tr>\n  </tbody>\n</table>\n</div>"
     },
     "execution_count": 27,
     "metadata": {},
     "output_type": "execute_result"
    }
   ],
   "source": [
    "res_diffalpha[res_diffalpha['case'] == 'small'].sort_values(by='dtv')\n",
    "res_diffalpha[res_diffalpha['case'] == 'big'].sort_values(by='dtv')"
   ],
   "metadata": {
    "collapsed": false,
    "pycharm": {
     "name": "#%%\n"
    }
   }
  },
  {
   "cell_type": "code",
   "execution_count": 4,
   "outputs": [
    {
     "name": "stderr",
     "output_type": "stream",
     "text": [
      "C:\\Users\\dmika\\AppData\\Local\\Programs\\Python\\Python310\\lib\\site-packages\\plotnine\\ggplot.py:719: PlotnineWarning: Saving 6.4 x 4.8 in image.\n",
      "C:\\Users\\dmika\\AppData\\Local\\Programs\\Python\\Python310\\lib\\site-packages\\plotnine\\ggplot.py:722: PlotnineWarning: Filename: Report/fig/diff_alpha1.png\n"
     ]
    }
   ],
   "source": [
    "plot_diff_alpha = ggplot(res_diffalpha) + \\\n",
    "    theme_bw() + \\\n",
    "    geom_line(aes(x='alpha', y='dtv', color='case'))\n",
    "plot_diff_alpha\n",
    "#plot_diff_alpha.save('Report/fig/diff_alpha1.png')"
   ],
   "metadata": {
    "collapsed": false,
    "pycharm": {
     "name": "#%%\n"
    }
   }
  },
  {
   "cell_type": "markdown",
   "source": [
    "# Results for different thetas"
   ],
   "metadata": {
    "collapsed": false,
    "pycharm": {
     "name": "#%% md\n"
    }
   }
  },
  {
   "cell_type": "code",
   "execution_count": 28,
   "outputs": [],
   "source": [
    "res_difftheta = pd.read_csv('Results/results_diff_thetas.csv')"
   ],
   "metadata": {
    "collapsed": false,
    "pycharm": {
     "name": "#%%\n"
    }
   }
  },
  {
   "cell_type": "code",
   "execution_count": 29,
   "outputs": [
    {
     "name": "stderr",
     "output_type": "stream",
     "text": [
      "C:\\Users\\dmika\\AppData\\Local\\Programs\\Python\\Python310\\lib\\site-packages\\plotnine\\stats\\stat_bin.py:95: PlotnineWarning: 'stat_bin()' using 'bins = 15'. Pick better value with 'binwidth'.\n"
     ]
    },
    {
     "data": {
      "text/plain": "<Figure size 640x480 with 1 Axes>",
      "image/png": "[encoded data removed]"
     },
     "metadata": {},
     "output_type": "display_data"
    },
    {
     "data": {
      "text/plain": "<ggplot: (97458366128)>"
     },
     "execution_count": 29,
     "metadata": {},
     "output_type": "execute_result"
    }
   ],
   "source": [
    "hist1 = ggplot(res_difftheta[res_difftheta['case'] == 'small']) + \\\n",
    "    theme_bw() + \\\n",
    "    geom_histogram(aes(x='dtv'))\n",
    "hist1.save('Report/fig/diff_theta1.png')"
   ],
   "metadata": {
    "collapsed": false,
    "pycharm": {
     "name": "#%%\n"
    }
   }
  },
  {
   "cell_type": "code",
   "execution_count": 49,
   "outputs": [
    {
     "name": "stderr",
     "output_type": "stream",
     "text": [
      "C:\\Users\\dmika\\AppData\\Local\\Programs\\Python\\Python310\\lib\\site-packages\\plotnine\\ggplot.py:719: PlotnineWarning: Saving 6.4 x 4.8 in image.\n",
      "C:\\Users\\dmika\\AppData\\Local\\Programs\\Python\\Python310\\lib\\site-packages\\plotnine\\ggplot.py:722: PlotnineWarning: Filename: Report/fig/diff_theta2.png\n",
      "C:\\Users\\dmika\\AppData\\Local\\Programs\\Python\\Python310\\lib\\site-packages\\plotnine\\stats\\stat_bin.py:95: PlotnineWarning: 'stat_bin()' using 'bins = 10'. Pick better value with 'binwidth'.\n"
     ]
    }
   ],
   "source": [
    "res_difftheta2 = pd.read_csv('Results/results_diff_thetas2.csv')\n",
    "hist2 = ggplot(res_difftheta2) + \\\n",
    "    theme_bw() + \\\n",
    "    geom_histogram(aes(x='dtv'))\n",
    "hist2.save('Report/fig/diff_theta2.png')"
   ],
   "metadata": {
    "collapsed": false,
    "pycharm": {
     "name": "#%%\n"
    }
   }
  },
  {
   "cell_type": "code",
   "execution_count": 47,
   "outputs": [
    {
     "name": "stderr",
     "output_type": "stream",
     "text": [
      "C:\\Users\\dmika\\AppData\\Local\\Programs\\Python\\Python310\\lib\\site-packages\\plotnine\\ggplot.py:719: PlotnineWarning: Saving 6.4 x 4.8 in image.\n",
      "C:\\Users\\dmika\\AppData\\Local\\Programs\\Python\\Python310\\lib\\site-packages\\plotnine\\ggplot.py:722: PlotnineWarning: Filename: Report/fig/diff_theta3.png\n",
      "C:\\Users\\dmika\\AppData\\Local\\Programs\\Python\\Python310\\lib\\site-packages\\plotnine\\stats\\stat_bin.py:95: PlotnineWarning: 'stat_bin()' using 'bins = 10'. Pick better value with 'binwidth'.\n"
     ]
    }
   ],
   "source": [
    "res_difftheta3 = pd.read_csv('Results/results_diff_thetas3.csv')\n",
    "hist3 = ggplot(res_difftheta3) + \\\n",
    "    theme_bw() + \\\n",
    "    geom_histogram(aes(x='dtv'))\n",
    "hist2.save('Report/fig/diff_theta3.png')"
   ],
   "metadata": {
    "collapsed": false,
    "pycharm": {
     "name": "#%%\n"
    }
   }
  },
  {
   "cell_type": "code",
   "execution_count": 48,
   "outputs": [
    {
     "name": "stderr",
     "output_type": "stream",
     "text": [
      "C:\\Users\\dmika\\AppData\\Local\\Programs\\Python\\Python310\\lib\\site-packages\\plotnine\\ggplot.py:719: PlotnineWarning: Saving 6.4 x 4.8 in image.\n",
      "C:\\Users\\dmika\\AppData\\Local\\Programs\\Python\\Python310\\lib\\site-packages\\plotnine\\ggplot.py:722: PlotnineWarning: Filename: Report/fig/diff_theta4.png\n",
      "C:\\Users\\dmika\\AppData\\Local\\Programs\\Python\\Python310\\lib\\site-packages\\plotnine\\stats\\stat_bin.py:95: PlotnineWarning: 'stat_bin()' using 'bins = 123'. Pick better value with 'binwidth'.\n"
     ]
    }
   ],
   "source": [
    "res_difftheta4 = pd.read_csv('Results/results_diff_thetas4.csv')\n",
    "hist4 = ggplot(res_difftheta4) + \\\n",
    "    theme_bw() + \\\n",
    "    geom_histogram(aes(x='dtv'))\n",
    "hist4.save('Report/fig/diff_theta4.png')"
   ],
   "metadata": {
    "collapsed": false,
    "pycharm": {
     "name": "#%%\n"
    }
   }
  }
 ],
 "metadata": {
  "kernelspec": {
   "display_name": "Python 3",
   "language": "python",
   "name": "python3"
  },
  "language_info": {
   "codemirror_mode": {
    "name": "ipython",
    "version": 2
   },
   "file_extension": ".py",
   "mimetype": "text/x-python",
   "name": "python",
   "nbconvert_exporter": "python",
   "pygments_lexer": "ipython2",
   "version": "2.7.6"
  }
 },
 "nbformat": 4,
 "nbformat_minor": 0
}